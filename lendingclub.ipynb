{
  "nbformat": 4,
  "nbformat_minor": 0,
  "metadata": {
    "colab": {
      "name": "lendingclub.ipynb",
      "provenance": [],
      "collapsed_sections": [
        "g6iwWcP8WKV_",
        "dzIOkdG-XD2W",
        "d-EAxaGuWKWS",
        "WwgISBHFWKWd",
        "tj8g-0tkWKWe",
        "XyoeCqYTWKWj"
      ]
    },
    "kernelspec": {
      "name": "python3",
      "display_name": "Python 3"
    },
    "language_info": {
      "name": "python"
    }
  },
  "cells": [
    {
      "cell_type": "markdown",
      "metadata": {
        "id": "Qc0sTpB0l2fM"
      },
      "source": [
        "# Maximize Loan Amount in Lending Club\n",
        "\n",
        "In this hypothetical case, we run a peer-to-peer lending platform called Lending Club. We want to maximize the loan amount to members. Let's use linear programming to optimize the loan amount.\n",
        "\n",
        "1. [Data Preparation](#data)\n",
        "2. [Objective Function - Weka](#weka)\n",
        "3. [Objective Function - Python](#python)\n",
        "4. [Constraints](#constraints)\n",
        "5. [Linear Programming](#lp)"
      ]
    },
    {
      "cell_type": "markdown",
      "metadata": {
        "id": "g6iwWcP8WKV_"
      },
      "source": [
        "<a name=\"data\"></a>\n",
        "## 1. Data Preparation"
      ]
    },
    {
      "cell_type": "markdown",
      "metadata": {
        "id": "oY8cXoNynehz"
      },
      "source": [
        "We use a data set adapted from the original data at https://rdrr.io/cran/openintro/man/loans_full_schema.html"
      ]
    },
    {
      "cell_type": "code",
      "metadata": {
        "colab": {
          "base_uri": "https://localhost:8080/"
        },
        "id": "Av_KvF0uWnOZ",
        "outputId": "8d63e604-c323-494d-a6c1-8749a6351361"
      },
      "source": [
        "!wget https://raw.githubusercontent.com/rickysoo/lendingclub/main/loan50.csv"
      ],
      "execution_count": 1,
      "outputs": [
        {
          "output_type": "stream",
          "text": [
            "--2021-06-27 13:19:44--  https://raw.githubusercontent.com/rickysoo/lendingclub/main/loan50.csv\n",
            "Resolving raw.githubusercontent.com (raw.githubusercontent.com)... 185.199.108.133, 185.199.109.133, 185.199.110.133, ...\n",
            "Connecting to raw.githubusercontent.com (raw.githubusercontent.com)|185.199.108.133|:443... connected.\n",
            "HTTP request sent, awaiting response... 200 OK\n",
            "Length: 6958 (6.8K) [text/plain]\n",
            "Saving to: ‘loan50.csv’\n",
            "\n",
            "\rloan50.csv            0%[                    ]       0  --.-KB/s               \rloan50.csv          100%[===================>]   6.79K  --.-KB/s    in 0s      \n",
            "\n",
            "2021-06-27 13:19:44 (87.0 MB/s) - ‘loan50.csv’ saved [6958/6958]\n",
            "\n"
          ],
          "name": "stdout"
        }
      ]
    },
    {
      "cell_type": "code",
      "metadata": {
        "id": "esR2fbmAWKWB"
      },
      "source": [
        "import pandas as pd\n",
        "import numpy as np\n",
        "import matplotlib.pyplot as plt\n",
        "\n",
        "np.set_printoptions(suppress = True)"
      ],
      "execution_count": 2,
      "outputs": []
    },
    {
      "cell_type": "code",
      "metadata": {
        "id": "c8BzN9FKWKWD",
        "colab": {
          "base_uri": "https://localhost:8080/",
          "height": 0
        },
        "outputId": "7c4bc778-2ef8-4579-dc7b-c2b266a1c05d"
      },
      "source": [
        "df = pd.read_csv('loan50.csv', index_col=0)\n",
        "df.head()"
      ],
      "execution_count": 3,
      "outputs": [
        {
          "output_type": "execute_result",
          "data": {
            "text/html": [
              "<div>\n",
              "<style scoped>\n",
              "    .dataframe tbody tr th:only-of-type {\n",
              "        vertical-align: middle;\n",
              "    }\n",
              "\n",
              "    .dataframe tbody tr th {\n",
              "        vertical-align: top;\n",
              "    }\n",
              "\n",
              "    .dataframe thead th {\n",
              "        text-align: right;\n",
              "    }\n",
              "</style>\n",
              "<table border=\"1\" class=\"dataframe\">\n",
              "  <thead>\n",
              "    <tr style=\"text-align: right;\">\n",
              "      <th></th>\n",
              "      <th>state</th>\n",
              "      <th>emp_length</th>\n",
              "      <th>term</th>\n",
              "      <th>homeownership</th>\n",
              "      <th>annual_income</th>\n",
              "      <th>verified_income</th>\n",
              "      <th>debt_to_income</th>\n",
              "      <th>total_credit_limit</th>\n",
              "      <th>total_credit_utilized</th>\n",
              "      <th>num_cc_carrying_balance</th>\n",
              "      <th>loan_purpose</th>\n",
              "      <th>loan_amount</th>\n",
              "      <th>grade</th>\n",
              "      <th>interest_rate</th>\n",
              "      <th>public_record_bankrupt</th>\n",
              "      <th>loan_status</th>\n",
              "      <th>has_second_income</th>\n",
              "      <th>total_income</th>\n",
              "    </tr>\n",
              "  </thead>\n",
              "  <tbody>\n",
              "    <tr>\n",
              "      <th>1</th>\n",
              "      <td>NJ</td>\n",
              "      <td>3.0</td>\n",
              "      <td>60</td>\n",
              "      <td>rent</td>\n",
              "      <td>59000.0</td>\n",
              "      <td>Not Verified</td>\n",
              "      <td>0.557525</td>\n",
              "      <td>95131</td>\n",
              "      <td>32894</td>\n",
              "      <td>8</td>\n",
              "      <td>debt_consolidation</td>\n",
              "      <td>22000</td>\n",
              "      <td>B</td>\n",
              "      <td>10.90</td>\n",
              "      <td>0</td>\n",
              "      <td>Current</td>\n",
              "      <td>False</td>\n",
              "      <td>59000.0</td>\n",
              "    </tr>\n",
              "    <tr>\n",
              "      <th>2</th>\n",
              "      <td>CA</td>\n",
              "      <td>10.0</td>\n",
              "      <td>36</td>\n",
              "      <td>rent</td>\n",
              "      <td>60000.0</td>\n",
              "      <td>Not Verified</td>\n",
              "      <td>1.305683</td>\n",
              "      <td>51929</td>\n",
              "      <td>78341</td>\n",
              "      <td>2</td>\n",
              "      <td>credit_card</td>\n",
              "      <td>6000</td>\n",
              "      <td>B</td>\n",
              "      <td>9.92</td>\n",
              "      <td>1</td>\n",
              "      <td>Current</td>\n",
              "      <td>False</td>\n",
              "      <td>60000.0</td>\n",
              "    </tr>\n",
              "    <tr>\n",
              "      <th>3</th>\n",
              "      <td>SC</td>\n",
              "      <td>NaN</td>\n",
              "      <td>36</td>\n",
              "      <td>mortgage</td>\n",
              "      <td>75000.0</td>\n",
              "      <td>Verified</td>\n",
              "      <td>1.056280</td>\n",
              "      <td>301373</td>\n",
              "      <td>79221</td>\n",
              "      <td>14</td>\n",
              "      <td>debt_consolidation</td>\n",
              "      <td>25000</td>\n",
              "      <td>E</td>\n",
              "      <td>26.30</td>\n",
              "      <td>0</td>\n",
              "      <td>Current</td>\n",
              "      <td>False</td>\n",
              "      <td>75000.0</td>\n",
              "    </tr>\n",
              "    <tr>\n",
              "      <th>4</th>\n",
              "      <td>CA</td>\n",
              "      <td>0.0</td>\n",
              "      <td>36</td>\n",
              "      <td>rent</td>\n",
              "      <td>75000.0</td>\n",
              "      <td>Not Verified</td>\n",
              "      <td>0.574347</td>\n",
              "      <td>59890</td>\n",
              "      <td>43076</td>\n",
              "      <td>10</td>\n",
              "      <td>credit_card</td>\n",
              "      <td>6000</td>\n",
              "      <td>B</td>\n",
              "      <td>9.92</td>\n",
              "      <td>0</td>\n",
              "      <td>Current</td>\n",
              "      <td>False</td>\n",
              "      <td>75000.0</td>\n",
              "    </tr>\n",
              "    <tr>\n",
              "      <th>5</th>\n",
              "      <td>OH</td>\n",
              "      <td>4.0</td>\n",
              "      <td>60</td>\n",
              "      <td>mortgage</td>\n",
              "      <td>254000.0</td>\n",
              "      <td>Not Verified</td>\n",
              "      <td>0.238150</td>\n",
              "      <td>422619</td>\n",
              "      <td>60490</td>\n",
              "      <td>2</td>\n",
              "      <td>home_improvement</td>\n",
              "      <td>25000</td>\n",
              "      <td>B</td>\n",
              "      <td>9.43</td>\n",
              "      <td>0</td>\n",
              "      <td>Current</td>\n",
              "      <td>False</td>\n",
              "      <td>254000.0</td>\n",
              "    </tr>\n",
              "  </tbody>\n",
              "</table>\n",
              "</div>"
            ],
            "text/plain": [
              "  state  emp_length  term  ... loan_status  has_second_income total_income\n",
              "1    NJ         3.0    60  ...     Current              False      59000.0\n",
              "2    CA        10.0    36  ...     Current              False      60000.0\n",
              "3    SC         NaN    36  ...     Current              False      75000.0\n",
              "4    CA         0.0    36  ...     Current              False      75000.0\n",
              "5    OH         4.0    60  ...     Current              False     254000.0\n",
              "\n",
              "[5 rows x 18 columns]"
            ]
          },
          "metadata": {
            "tags": []
          },
          "execution_count": 3
        }
      ]
    },
    {
      "cell_type": "markdown",
      "metadata": {
        "id": "S0aypAXcWKWE"
      },
      "source": [
        "Select numeric columns as variables."
      ]
    },
    {
      "cell_type": "code",
      "metadata": {
        "id": "_n0SgA9XWKWF"
      },
      "source": [
        "features = ['emp_length', 'term', 'annual_income', 'debt_to_income', 'total_credit_limit', 'total_credit_utilized', 'num_cc_carrying_balance', 'interest_rate', 'public_record_bankrupt', 'has_second_income', 'total_income']\n",
        "# features = ['annual_income', 'total_credit_limit', 'total_credit_utilized', 'total_income']\n",
        "target = ['loan_amount']\n",
        "\n",
        "df = df[features + target]"
      ],
      "execution_count": 4,
      "outputs": []
    },
    {
      "cell_type": "code",
      "metadata": {
        "id": "UfdyuDbKWKWF",
        "colab": {
          "base_uri": "https://localhost:8080/"
        },
        "outputId": "07cbcb09-9a90-4df1-856b-d2786c1c1fae"
      },
      "source": [
        "df.shape"
      ],
      "execution_count": 5,
      "outputs": [
        {
          "output_type": "execute_result",
          "data": {
            "text/plain": [
              "(50, 12)"
            ]
          },
          "metadata": {
            "tags": []
          },
          "execution_count": 5
        }
      ]
    },
    {
      "cell_type": "markdown",
      "metadata": {
        "id": "zKjUT1S_WKWG"
      },
      "source": [
        "Check for missing values."
      ]
    },
    {
      "cell_type": "code",
      "metadata": {
        "id": "7bjhPT-jWKWH",
        "colab": {
          "base_uri": "https://localhost:8080/"
        },
        "outputId": "6d0ce737-b4bb-40ea-bb0e-526c265b219a"
      },
      "source": [
        "df.isnull().sum()"
      ],
      "execution_count": 6,
      "outputs": [
        {
          "output_type": "execute_result",
          "data": {
            "text/plain": [
              "emp_length                 2\n",
              "term                       0\n",
              "annual_income              0\n",
              "debt_to_income             0\n",
              "total_credit_limit         0\n",
              "total_credit_utilized      0\n",
              "num_cc_carrying_balance    0\n",
              "interest_rate              0\n",
              "public_record_bankrupt     0\n",
              "has_second_income          0\n",
              "total_income               0\n",
              "loan_amount                0\n",
              "dtype: int64"
            ]
          },
          "metadata": {
            "tags": []
          },
          "execution_count": 6
        }
      ]
    },
    {
      "cell_type": "markdown",
      "metadata": {
        "id": "KiHsABQqWKWI"
      },
      "source": [
        "Fix missing values and change one column from Boolean to numeric."
      ]
    },
    {
      "cell_type": "code",
      "metadata": {
        "id": "KqxGuxXYWKWI"
      },
      "source": [
        "df['emp_length'].fillna(value = df['emp_length'].mean(), inplace = True)\n",
        "\n",
        "df.loc[df['has_second_income'] == True, 'has_second_income'] = 1\n",
        "df.loc[df['has_second_income'] == False, 'has_second_income'] = 0"
      ],
      "execution_count": 7,
      "outputs": []
    },
    {
      "cell_type": "code",
      "metadata": {
        "id": "R7llRlpxWKWJ",
        "colab": {
          "base_uri": "https://localhost:8080/",
          "height": 0
        },
        "outputId": "33f8c7ff-fa32-44db-b40d-2edba3dfaea5"
      },
      "source": [
        "df.head()"
      ],
      "execution_count": 8,
      "outputs": [
        {
          "output_type": "execute_result",
          "data": {
            "text/html": [
              "<div>\n",
              "<style scoped>\n",
              "    .dataframe tbody tr th:only-of-type {\n",
              "        vertical-align: middle;\n",
              "    }\n",
              "\n",
              "    .dataframe tbody tr th {\n",
              "        vertical-align: top;\n",
              "    }\n",
              "\n",
              "    .dataframe thead th {\n",
              "        text-align: right;\n",
              "    }\n",
              "</style>\n",
              "<table border=\"1\" class=\"dataframe\">\n",
              "  <thead>\n",
              "    <tr style=\"text-align: right;\">\n",
              "      <th></th>\n",
              "      <th>emp_length</th>\n",
              "      <th>term</th>\n",
              "      <th>annual_income</th>\n",
              "      <th>debt_to_income</th>\n",
              "      <th>total_credit_limit</th>\n",
              "      <th>total_credit_utilized</th>\n",
              "      <th>num_cc_carrying_balance</th>\n",
              "      <th>interest_rate</th>\n",
              "      <th>public_record_bankrupt</th>\n",
              "      <th>has_second_income</th>\n",
              "      <th>total_income</th>\n",
              "      <th>loan_amount</th>\n",
              "    </tr>\n",
              "  </thead>\n",
              "  <tbody>\n",
              "    <tr>\n",
              "      <th>1</th>\n",
              "      <td>3.000000</td>\n",
              "      <td>60</td>\n",
              "      <td>59000.0</td>\n",
              "      <td>0.557525</td>\n",
              "      <td>95131</td>\n",
              "      <td>32894</td>\n",
              "      <td>8</td>\n",
              "      <td>10.90</td>\n",
              "      <td>0</td>\n",
              "      <td>0</td>\n",
              "      <td>59000.0</td>\n",
              "      <td>22000</td>\n",
              "    </tr>\n",
              "    <tr>\n",
              "      <th>2</th>\n",
              "      <td>10.000000</td>\n",
              "      <td>36</td>\n",
              "      <td>60000.0</td>\n",
              "      <td>1.305683</td>\n",
              "      <td>51929</td>\n",
              "      <td>78341</td>\n",
              "      <td>2</td>\n",
              "      <td>9.92</td>\n",
              "      <td>1</td>\n",
              "      <td>0</td>\n",
              "      <td>60000.0</td>\n",
              "      <td>6000</td>\n",
              "    </tr>\n",
              "    <tr>\n",
              "      <th>3</th>\n",
              "      <td>4.895833</td>\n",
              "      <td>36</td>\n",
              "      <td>75000.0</td>\n",
              "      <td>1.056280</td>\n",
              "      <td>301373</td>\n",
              "      <td>79221</td>\n",
              "      <td>14</td>\n",
              "      <td>26.30</td>\n",
              "      <td>0</td>\n",
              "      <td>0</td>\n",
              "      <td>75000.0</td>\n",
              "      <td>25000</td>\n",
              "    </tr>\n",
              "    <tr>\n",
              "      <th>4</th>\n",
              "      <td>0.000000</td>\n",
              "      <td>36</td>\n",
              "      <td>75000.0</td>\n",
              "      <td>0.574347</td>\n",
              "      <td>59890</td>\n",
              "      <td>43076</td>\n",
              "      <td>10</td>\n",
              "      <td>9.92</td>\n",
              "      <td>0</td>\n",
              "      <td>0</td>\n",
              "      <td>75000.0</td>\n",
              "      <td>6000</td>\n",
              "    </tr>\n",
              "    <tr>\n",
              "      <th>5</th>\n",
              "      <td>4.000000</td>\n",
              "      <td>60</td>\n",
              "      <td>254000.0</td>\n",
              "      <td>0.238150</td>\n",
              "      <td>422619</td>\n",
              "      <td>60490</td>\n",
              "      <td>2</td>\n",
              "      <td>9.43</td>\n",
              "      <td>0</td>\n",
              "      <td>0</td>\n",
              "      <td>254000.0</td>\n",
              "      <td>25000</td>\n",
              "    </tr>\n",
              "  </tbody>\n",
              "</table>\n",
              "</div>"
            ],
            "text/plain": [
              "   emp_length  term  annual_income  ...  has_second_income  total_income  loan_amount\n",
              "1    3.000000    60        59000.0  ...                  0       59000.0        22000\n",
              "2   10.000000    36        60000.0  ...                  0       60000.0         6000\n",
              "3    4.895833    36        75000.0  ...                  0       75000.0        25000\n",
              "4    0.000000    36        75000.0  ...                  0       75000.0         6000\n",
              "5    4.000000    60       254000.0  ...                  0      254000.0        25000\n",
              "\n",
              "[5 rows x 12 columns]"
            ]
          },
          "metadata": {
            "tags": []
          },
          "execution_count": 8
        }
      ]
    },
    {
      "cell_type": "code",
      "metadata": {
        "id": "o1QEc7I9WKWJ"
      },
      "source": [
        "df.to_csv('loan50_small.csv', index = False)"
      ],
      "execution_count": 9,
      "outputs": []
    },
    {
      "cell_type": "markdown",
      "metadata": {
        "id": "dzIOkdG-XD2W"
      },
      "source": [
        "<a name=\"weka\"></a>\n",
        "## 2. Objective Function - Weka"
      ]
    },
    {
      "cell_type": "markdown",
      "metadata": {
        "id": "Lk2I21CuojqQ"
      },
      "source": [
        "We use Weka to obtain the objective function."
      ]
    },
    {
      "cell_type": "code",
      "metadata": {
        "id": "O9fwakKA6RrZ",
        "colab": {
          "base_uri": "https://localhost:8080/"
        },
        "outputId": "0a97839e-a3fc-4931-d690-d626156591db"
      },
      "source": [
        "# import os\n",
        "# import sys\n",
        "\n",
        "# sys.path\n",
        "# sys.path.append(\"/usr/lib/jvm/java-11-openjdk-amd64/bin/\")\n",
        "# os.environ[\"JAVA_HOME\"] = \"/usr/lib/jvm/java-11-openjdk-amd64/\"\n",
        "\n",
        "# !apt-get install build-essential python3-dev\n",
        "# !apt-get install python3-pil python3-pygraphviz\n",
        "# !apt install openjdk-11-jdk\n",
        "\n",
        "!pip3 install javabridge --no-cache-dir\n",
        "!pip3 install python-weka-wrapper3 --no-cache-dir"
      ],
      "execution_count": null,
      "outputs": [
        {
          "output_type": "stream",
          "text": [
            "Collecting javabridge\n",
            "\u001b[?25l  Downloading https://files.pythonhosted.org/packages/99/d8/750d2bf563099e430fceb30ec0dbcd04ad5d17beb96b59f5a2f402d5b0a9/javabridge-1.0.19.tar.gz (1.3MB)\n",
            "\u001b[K     |████████████████████████████████| 1.4MB 6.9MB/s \n",
            "\u001b[?25hRequirement already satisfied: numpy in /usr/local/lib/python3.7/dist-packages (from javabridge) (1.19.5)\n",
            "Building wheels for collected packages: javabridge\n",
            "  Building wheel for javabridge (setup.py) ... \u001b[?25l\u001b[?25hdone\n",
            "  Created wheel for javabridge: filename=javabridge-1.0.19-cp37-cp37m-linux_x86_64.whl size=1636591 sha256=2f341bdd6bc9ce2bb5d531561eb41daa941e414c0a6f85772031a6c9894ece65\n",
            "  Stored in directory: /tmp/pip-ephem-wheel-cache-n9vzcqp0/wheels/3f/c3/06/e0ebe937afde69a1e691dde266bde0b67886c4edfa1479fb49\n",
            "Successfully built javabridge\n",
            "Installing collected packages: javabridge\n",
            "Successfully installed javabridge-1.0.19\n",
            "Collecting python-weka-wrapper3\n",
            "\u001b[?25l  Downloading https://files.pythonhosted.org/packages/c3/a5/2c1b5040322c25ef13bea0d96239d2d98cf4c5f6d99c4e54128229198c2b/python-weka-wrapper3-0.2.3.tar.gz (12.9MB)\n",
            "\u001b[K     |████████████████████████████████| 12.9MB 6.8MB/s \n",
            "\u001b[?25hRequirement already satisfied: javabridge>=1.0.14 in /usr/local/lib/python3.7/dist-packages (from python-weka-wrapper3) (1.0.19)\n",
            "Requirement already satisfied: numpy in /usr/local/lib/python3.7/dist-packages (from python-weka-wrapper3) (1.19.5)\n",
            "Building wheels for collected packages: python-weka-wrapper3\n",
            "  Building wheel for python-weka-wrapper3 (setup.py) ... \u001b[?25l\u001b[?25hdone\n",
            "  Created wheel for python-weka-wrapper3: filename=python_weka_wrapper3-0.2.3-cp37-none-any.whl size=11540519 sha256=41c89b708fbb1deb6c2fce1c18e2f9c04aaf7e7ae201bb4bc73e153f4825f698\n",
            "  Stored in directory: /tmp/pip-ephem-wheel-cache-jajy3965/wheels/38/f9/79/fbc6f6db97bd80efc361ac947bcf082812669ef0928d55504f\n",
            "Successfully built python-weka-wrapper3\n"
          ],
          "name": "stdout"
        }
      ]
    },
    {
      "cell_type": "code",
      "metadata": {
        "id": "qT64y3kd7Oc8"
      },
      "source": [
        "import weka.core.jvm as jvm\n",
        "jvm.start()"
      ],
      "execution_count": null,
      "outputs": []
    },
    {
      "cell_type": "code",
      "metadata": {
        "id": "wiRU4rQ8X2Xl"
      },
      "source": [
        "from weka.classifiers import Classifier\n",
        "import weka.core.converters as converters"
      ],
      "execution_count": null,
      "outputs": []
    },
    {
      "cell_type": "markdown",
      "metadata": {
        "id": "mD21eqGhoyN1"
      },
      "source": [
        "Load data into Weka."
      ]
    },
    {
      "cell_type": "code",
      "metadata": {
        "id": "QLu7wk5aZ1Ch"
      },
      "source": [
        "data = converters.load_any_file('loan50_small.csv')\n",
        "data"
      ],
      "execution_count": null,
      "outputs": []
    },
    {
      "cell_type": "markdown",
      "metadata": {
        "id": "iW5__va7o1p_"
      },
      "source": [
        "Build a regression model using Linear Regression."
      ]
    },
    {
      "cell_type": "code",
      "metadata": {
        "id": "vuVhSmqiZXKr"
      },
      "source": [
        "from weka.classifiers import Classifier, Evaluation\n",
        "from weka.core.classes import Random\n",
        "data.class_is_last()   # set class attribute\n",
        "classifier = Classifier(classname=\"weka.classifiers.functions.LinearRegression\")\n",
        "classifier.build_classifier(data)"
      ],
      "execution_count": null,
      "outputs": []
    },
    {
      "cell_type": "markdown",
      "metadata": {
        "id": "Ga6dJ-Ugo_p1"
      },
      "source": [
        "Show the resulting objective function."
      ]
    },
    {
      "cell_type": "code",
      "metadata": {
        "id": "8A7a7uWNeZMp"
      },
      "source": [
        "print(classifier)"
      ],
      "execution_count": null,
      "outputs": []
    },
    {
      "cell_type": "markdown",
      "metadata": {
        "id": "VxWX0jPKpEuk"
      },
      "source": [
        "Evaluate the model."
      ]
    },
    {
      "cell_type": "code",
      "metadata": {
        "id": "foxyQoyNahAD"
      },
      "source": [
        "evaluation = Evaluation(data)\n",
        "evaluation.crossvalidate_model(classifier, data, 10, Random(1))\n",
        "print(evaluation.summary())"
      ],
      "execution_count": null,
      "outputs": []
    },
    {
      "cell_type": "markdown",
      "metadata": {
        "id": "d-EAxaGuWKWS"
      },
      "source": [
        "<a name=\"python\"></a>\n",
        "## 3. Objective Function - Python"
      ]
    },
    {
      "cell_type": "markdown",
      "metadata": {
        "id": "gG0vuk9RWKWS"
      },
      "source": [
        "We confirm the objective function by running it using Scikit-learn in Python."
      ]
    },
    {
      "cell_type": "code",
      "metadata": {
        "id": "C5CGdJryWKWU"
      },
      "source": [
        "from sklearn.linear_model import LinearRegression\n",
        "from sklearn.preprocessing import PolynomialFeatures"
      ],
      "execution_count": null,
      "outputs": []
    },
    {
      "cell_type": "markdown",
      "metadata": {
        "id": "_zR7WTZAWKWV"
      },
      "source": [
        "Take relevant variables generated in Weka as features."
      ]
    },
    {
      "cell_type": "code",
      "metadata": {
        "id": "Ng25iWQJWKWV"
      },
      "source": [
        "features = ['term', 'debt_to_income', 'total_credit_limit', 'total_credit_utilized', 'interest_rate']"
      ],
      "execution_count": null,
      "outputs": []
    },
    {
      "cell_type": "code",
      "metadata": {
        "id": "FVmaYon8WKWV"
      },
      "source": [
        "X = df[features]\n",
        "y = df[target]"
      ],
      "execution_count": null,
      "outputs": []
    },
    {
      "cell_type": "code",
      "metadata": {
        "id": "R5e3hkXhWKWW"
      },
      "source": [
        "X_ = PolynomialFeatures(degree = 1, include_bias = False).fit_transform(X)\n",
        "X_.shape"
      ],
      "execution_count": null,
      "outputs": []
    },
    {
      "cell_type": "code",
      "metadata": {
        "id": "7_kXUzbgWKWc"
      },
      "source": [
        "lr = LinearRegression().fit(X_, y)"
      ],
      "execution_count": null,
      "outputs": []
    },
    {
      "cell_type": "code",
      "metadata": {
        "id": "pevcU1v9WKWd"
      },
      "source": [
        "intercept, coefficients = lr.intercept_, lr.coef_\n",
        "intercept, coefficients"
      ],
      "execution_count": null,
      "outputs": []
    },
    {
      "cell_type": "markdown",
      "metadata": {
        "id": "WwgISBHFWKWd"
      },
      "source": [
        "The results match the ones produced in Weka.\n",
        "\n",
        "### Objective Function\n",
        "\n",
        "loan_amount =\n",
        "    219.3865 * term +\n",
        " -11563.467  * debt_to_income +\n",
        "      0.0145 * total_credit_limit +\n",
        "      0.1476 * total_credit_utilized +\n",
        "    428.0641 * interest_rate +\n",
        "   -984.4325"
      ]
    },
    {
      "cell_type": "markdown",
      "metadata": {
        "id": "tj8g-0tkWKWe"
      },
      "source": [
        "<a name=\"constraints\"></a>\n",
        "## 4. Constraints"
      ]
    },
    {
      "cell_type": "markdown",
      "metadata": {
        "id": "Dp_J7SKZph2g"
      },
      "source": [
        "Explore the data to come up with reasonable constraints."
      ]
    },
    {
      "cell_type": "code",
      "metadata": {
        "id": "XryUEYEoWKWe"
      },
      "source": [
        "df[features + target].describe()"
      ],
      "execution_count": null,
      "outputs": []
    },
    {
      "cell_type": "code",
      "metadata": {
        "id": "U_TToQCRWKWf"
      },
      "source": [
        "df['term'].plot(kind = 'hist', title = 'Term')"
      ],
      "execution_count": null,
      "outputs": []
    },
    {
      "cell_type": "code",
      "metadata": {
        "id": "i2RWMbwoWKWg"
      },
      "source": [
        "df['debt_to_income'].plot(kind = 'hist', title = 'Debt-to-Income Ratio')"
      ],
      "execution_count": null,
      "outputs": []
    },
    {
      "cell_type": "code",
      "metadata": {
        "id": "BsFY3vtnWKWg"
      },
      "source": [
        "df['total_credit_limit'].plot(kind = 'hist', title = 'Total Credit Limit')"
      ],
      "execution_count": null,
      "outputs": []
    },
    {
      "cell_type": "code",
      "metadata": {
        "id": "UifSgZdVWKWg"
      },
      "source": [
        "df['total_credit_utilized'].plot(kind = 'hist', title = 'Total Credit Utilized')"
      ],
      "execution_count": null,
      "outputs": []
    },
    {
      "cell_type": "code",
      "metadata": {
        "id": "XJBnyl2jWKWh"
      },
      "source": [
        "df[['total_credit_limit', 'total_credit_utilized']].plot(kind = 'line', title = 'Credit Lines')"
      ],
      "execution_count": null,
      "outputs": []
    },
    {
      "cell_type": "code",
      "metadata": {
        "id": "ljE7RWusWKWi"
      },
      "source": [
        "df['interest_rate'].plot(kind = 'hist', title = 'Interest Rate')"
      ],
      "execution_count": null,
      "outputs": []
    },
    {
      "cell_type": "code",
      "metadata": {
        "id": "45-0C625WKWi"
      },
      "source": [
        "df['loan_amount'].plot(kind = 'hist', title = 'Loan Amount')"
      ],
      "execution_count": null,
      "outputs": []
    },
    {
      "cell_type": "markdown",
      "metadata": {
        "id": "Lf5JTG26WKWi"
      },
      "source": [
        "With the insights above, we can suggest the constraints below."
      ]
    },
    {
      "cell_type": "markdown",
      "metadata": {
        "id": "nOmlwRX8WKWj"
      },
      "source": [
        "<a name=\"lp\"></a>\n",
        "## 5. Linear Programming"
      ]
    },
    {
      "cell_type": "markdown",
      "metadata": {
        "id": "bzUpJbJ6p5tA"
      },
      "source": [
        "With the objective function and constraints, now we can optimize the function to calculate the maximum loan amount using simplex method. This is implemented in Python using SciPy library."
      ]
    },
    {
      "cell_type": "markdown",
      "metadata": {
        "id": "XyoeCqYTWKWj"
      },
      "source": [
        "### Objective function\n",
        "\n",
        "max (loan_amount) =\n",
        "    219.3865 * term +\n",
        " -11563.467  * debt_to_income +\n",
        "      0.0145 * total_credit_limit +\n",
        "      0.1476 * total_credit_utilized +\n",
        "    428.0641 * interest_rate +\n",
        "   -984.4325\n",
        "   \n",
        "Note that max (loan_amount) = min (-loan_amount)."
      ]
    },
    {
      "cell_type": "markdown",
      "metadata": {
        "id": "uApQorzLWKWj"
      },
      "source": [
        "### Constraints\n",
        "\n",
        "Due to implementation requirements in the scipy.optimize.linprog linear programming library, all inequalities in the constraints need to be in the \"less than or equal\" form.\n",
        "\n",
        "**Term must be between 36 to 60 months**  \n",
        "1. term >= 36  \n",
        "(converted to -term <= -36)  \n",
        "\n",
        "**Debt-to-income ratio must be between 0 to 1**  \n",
        "2. debt_to_income >= 0   \n",
        "(converted to -debt_to_income <= 0)  \n",
        "\n",
        "**Total credit utilized must not exceed 80% of total credit limit. Both must be equal or more than 0.**  \n",
        "3. total_credit_utilized <= 0.8 * total_credit_limit  \n",
        "(converted to -0.8 * total_credit_limit + total_credit_utilized <= 0)  \n",
        "\n",
        "4. total_credit_limit >= 0  \n",
        "(converted to -total_credit_limit <= 0)  \n",
        "\n",
        "5. total_credit_limit <= 800000  \n",
        "\n",
        "6. total_credit_utilized >= 0  \n",
        "(converted to -total_credit_utilized <= 0)  \n",
        "\n",
        "**Interest rate must be between 5% to 20%**  \n",
        "7. interest_rate >= 5  \n",
        "(converted to -interest_rate <= 5)\n",
        "\n",
        "8. interest_rate <= 20\n",
        "\n",
        "**Additional Policies**\n",
        "\n",
        "Interest rate needs to be commensurate to the risks inherent in term duration and debt-to-income ratio. The higher both these variables are, the higher the interest rate should be for the interest of lender.\n",
        "\n",
        "9. interest_rate >= 0.1 * term + 3 * debt_to_income  \n",
        "(converted to 0.1 * term + 3 * debt_to_income - interest_rate <= 0)\n",
        "\n",
        "Loan duration needs to be commensurate to the risks inherent in debt-to-income ratio and total credit limit. It needs to be lower than a certain threshold to reduce the risk of the loan.\n",
        "\n",
        "10. term <= 10 * debt_to_income + 0.0001 * total_credit_limit  \n",
        "(converted to term - 10 * debt_to_income - 0.0001 * total_credit_limit <= 0)\n",
        "\n",
        "Both additional policies have been tested in the data and found to allow for almost all loans except a few edge cases."
      ]
    },
    {
      "cell_type": "code",
      "metadata": {
        "id": "dF8uG9f6WKWk"
      },
      "source": [
        "from scipy.optimize import linprog"
      ],
      "execution_count": null,
      "outputs": []
    },
    {
      "cell_type": "markdown",
      "metadata": {
        "id": "Hois2g5xWKWl"
      },
      "source": [
        "As max f(x) = -min f(-x), change the signs of all coefficients."
      ]
    },
    {
      "cell_type": "code",
      "metadata": {
        "id": "sEDD8pc2WKWl"
      },
      "source": [
        "obj = [-c for c in coefficients]\n",
        "print(obj)"
      ],
      "execution_count": null,
      "outputs": []
    },
    {
      "cell_type": "code",
      "metadata": {
        "id": "B0KrwQf2WKWm"
      },
      "source": [
        "lhs_ineq = [\n",
        "    # term\n",
        "    [-1, 0, 0, 0, 0],\n",
        "    \n",
        "    # debt_to_income\n",
        "    [0, -1, 0, 0, 0],\n",
        "    \n",
        "    # total_credit_limit, total_credit_utilized\n",
        "    [0, 0, -0.8, 1, 0],\n",
        "    [0, 0, -1, 0, 0],\n",
        "    [0, 0, 1, 0, 0],\n",
        "    [0, 0, 0, -1, 0],\n",
        "    \n",
        "    # interest_rate\n",
        "    [0, 0, 0, 0, -1],\n",
        "    [0, 0, 0, 0, 1],\n",
        "\n",
        "    # additional policies\n",
        "    [0.1, 3, 0, 0, -1],\n",
        "    [1, -10, -0.0001, 0, 0]\n",
        "]\n",
        "\n",
        "rhs_ineq = [-36, # term\n",
        "            0, # debt_to_income\n",
        "            0, 0, 800000, 0, # total_credit_limit, total_credit_utilized\n",
        "            -5, 20, # interest_rate\n",
        "            0, 0] # additional policies\n",
        "\n",
        "opt = linprog(c = obj, A_ub = lhs_ineq, b_ub = rhs_ineq, method = \"revised simplex\")\n",
        "print(opt)"
      ],
      "execution_count": null,
      "outputs": []
    },
    {
      "cell_type": "markdown",
      "metadata": {
        "id": "1HqIVA4SqVn4"
      },
      "source": [
        "Print the optimum variables."
      ]
    },
    {
      "cell_type": "code",
      "metadata": {
        "id": "oQFTKB3dWKWm"
      },
      "source": [
        "for var, x in zip(features, opt.x):\n",
        "    print(f'Variable: {var}')\n",
        "    print(f'Optimum: {x:.1f}')\n",
        "    print('')"
      ],
      "execution_count": null,
      "outputs": []
    },
    {
      "cell_type": "markdown",
      "metadata": {
        "id": "13w0xEHVWKWn"
      },
      "source": [
        "Get min f(x)."
      ]
    },
    {
      "cell_type": "code",
      "metadata": {
        "id": "JReV8ndXWKWn"
      },
      "source": [
        "obj_value = np.dot(obj, opt.x)[0]\n",
        "obj_value"
      ],
      "execution_count": null,
      "outputs": []
    },
    {
      "cell_type": "markdown",
      "metadata": {
        "id": "EZrG60unWKWo"
      },
      "source": [
        "As max f(x) = -min f(x), change the sign and add intercept."
      ]
    },
    {
      "cell_type": "code",
      "metadata": {
        "id": "Va1KYGrJWKWo"
      },
      "source": [
        "max_loan = -obj_value + intercept[0]\n",
        "print(f'Maximum loan amount = ${max_loan:.2f}')"
      ],
      "execution_count": null,
      "outputs": []
    },
    {
      "cell_type": "markdown",
      "metadata": {
        "id": "DVeQARLVL09R"
      },
      "source": [
        "Confirm the amount by multiplying the coefficients and the optimum variable values, and and adding up the intercept."
      ]
    },
    {
      "cell_type": "code",
      "metadata": {
        "id": "WwlH7F-dKFth"
      },
      "source": [
        "answer = \\\n",
        "coefficients[0][0] * opt.x[0] + \\\n",
        "coefficients[0][1] * opt.x[1] + \\\n",
        "coefficients[0][2] * opt.x[2] + \\\n",
        "coefficients[0][3] * opt.x[3] + \\\n",
        "coefficients[0][4] * opt.x[4] + \\\n",
        "intercept[0]\n",
        "\n",
        "answer"
      ],
      "execution_count": null,
      "outputs": []
    },
    {
      "cell_type": "code",
      "metadata": {
        "id": "lfCY8XIZMGre"
      },
      "source": [
        "answer == max_loan"
      ],
      "execution_count": null,
      "outputs": []
    }
  ]
}